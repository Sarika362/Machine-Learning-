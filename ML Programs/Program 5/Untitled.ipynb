{
 "cells": [
  {
   "cell_type": "code",
   "execution_count": 4,
   "id": "0c4a0077",
   "metadata": {},
   "outputs": [
    {
     "name": "stdout",
     "output_type": "stream",
     "text": [
      "split 15 rows into: \n",
      "Number of training data: 12\n",
      "Number of test data: 3\n",
      "\n",
      "The values assumed for concept learning attributes are: \n",
      "Outlook => sunny=1  overcast=2  rain=3\n",
      "         Temperature => Hot=1  mild=2  cool=3\n",
      "         Humidity => high=1 normal=2\n",
      "         Wind => weak=1 strong=2\n",
      "Target cincept: Play Teenis => Yes=10 No=5\n",
      "The training set:\n",
      "(array([2, 1, 1, 2], dtype=int64), 10)\n",
      "(array([1, 2, 2, 2], dtype=int64), 10)\n",
      "(array([3, 3, 2, 1], dtype=int64), 10)\n",
      "(array([1, 1, 1, 2], dtype=int64), 5)\n",
      "(array([3, 2, 1, 2], dtype=int64), 5)\n",
      "(array([1, 1, 1, 1], dtype=int64), 5)\n",
      "(array([1, 2, 1, 2], dtype=int64), 10)\n",
      "(array([3, 2, 2, 2], dtype=int64), 10)\n",
      "(array([1, 3, 2, 1], dtype=int64), 10)\n",
      "(array([2, 1, 2, 1], dtype=int64), 10)\n",
      "(array([2, 2, 1, 2], dtype=int64), 10)\n",
      "(array([3, 3, 2, 2], dtype=int64), 5)\n",
      "The test set:\n",
      "(array([3, 2, 1, 1], dtype=int64), 10)\n",
      "(array([1, 2, 1, 1], dtype=int64), 5)\n",
      "(array([2, 3, 2, 2], dtype=int64), 10)\n",
      "prediction for the given training set  [10 10 10]\n",
      "Gaussiannaivebayes odel accuracy (in %):  66.66666666666666\n"
     ]
    }
   ],
   "source": [
    "import pandas as pd\n",
    "df = pd.read_csv(\"p5.csv\")\n",
    "headers = df.columns.values\n",
    "data = df.iloc[:,0:-1].values\n",
    "target = df.iloc[:,-1].values\n",
    "from sklearn.model_selection import train_test_split\n",
    "x_train, x_test, y_train, y_test = train_test_split(data, target, test_size=0.2, random_state = 1)\n",
    "print(\"split {0} rows into: \".format(len(data)))\n",
    "print(\"Number of training data: \"+(repr(len(x_train))))\n",
    "print(\"Number of test data: \"+(repr(len(x_test))))\n",
    "print(\"\\nThe values assumed for concept learning attributes are: \")\n",
    "print('''Outlook => sunny=1  overcast=2  rain=3\n",
    "         Temperature => Hot=1  mild=2  cool=3\n",
    "         Humidity => high=1 normal=2\n",
    "         Wind => weak=1 strong=2''')\n",
    "print(\"Target cincept: Play Teenis => Yes=10 No=5\")\n",
    "print(\"The training set:\")\n",
    "for x,y in zip(x_train, y_train):\n",
    "    print((x,y))\n",
    "print(\"The test set:\")\n",
    "for x,y in zip(x_test, y_test):\n",
    "    print((x,y))\n",
    "from sklearn.naive_bayes import GaussianNB\n",
    "gnb = GaussianNB()\n",
    "gnb.fit(x_train, y_train)\n",
    "y_pred = gnb.predict(x_test)\n",
    "print(\"prediction for the given training set \",y_pred)\n",
    "from sklearn import metrics\n",
    "print(\"Gaussiannaivebayes odel accuracy (in %): \",metrics.accuracy_score(y_test,y_pred)*100)\n"
   ]
  },
  {
   "cell_type": "code",
   "execution_count": null,
   "id": "10853dea",
   "metadata": {},
   "outputs": [],
   "source": []
  }
 ],
 "metadata": {
  "kernelspec": {
   "display_name": "Python 3 (ipykernel)",
   "language": "python",
   "name": "python3"
  },
  "language_info": {
   "codemirror_mode": {
    "name": "ipython",
    "version": 3
   },
   "file_extension": ".py",
   "mimetype": "text/x-python",
   "name": "python",
   "nbconvert_exporter": "python",
   "pygments_lexer": "ipython3",
   "version": "3.11.4"
  }
 },
 "nbformat": 4,
 "nbformat_minor": 5
}
