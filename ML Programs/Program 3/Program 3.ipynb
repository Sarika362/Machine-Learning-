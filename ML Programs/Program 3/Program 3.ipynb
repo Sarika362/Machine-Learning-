{
 "cells": [
  {
   "cell_type": "code",
   "execution_count": 1,
   "id": "1fe92edb",
   "metadata": {},
   "outputs": [
    {
     "name": "stdout",
     "output_type": "stream",
     "text": [
      "   weather temperature humidity    wind class\n",
      "0    sunny         hot     high    weak    no\n",
      "1    sunny         hot     high  strong    no\n",
      "2   cloudy         hot     high    weak   yes\n",
      "3     rain        mild     high    weak   yes\n",
      "4     rain        cool   normal    weak   yes\n",
      "5     rain        cool   normal  strong    no\n",
      "6   cloudy        cool   normal  strong   yes\n",
      "7    sunny        mild     high    weak    no\n",
      "8    sunny        cool   normal    weak   yes\n",
      "9     rain        mild   normal    weak   yes\n",
      "10   sunny        mild   normal  strong   yes\n",
      "11  cloudy        mild     high  strong   yes\n",
      "12  cloudy         hot   normal    weak   yes\n",
      "13    rain        mild     high  strong    no\n"
     ]
    }
   ],
   "source": [
    "import pandas as pd\n",
    "import numpy as np\n",
    "from sklearn.preprocessing import LabelEncoder\n",
    "\n",
    "# Create dataset manually\n",
    "data = {\n",
    "    'weather': ['sunny', 'sunny', 'cloudy', 'rain', 'rain', 'rain', 'cloudy', 'sunny', 'sunny', 'rain', 'sunny', 'cloudy', \n",
    "                'cloudy', 'rain'],\n",
    "    'temperature': ['hot', 'hot', 'hot', 'mild', 'cool', 'cool', 'cool', 'mild', 'cool', 'mild', 'mild', 'mild', 'hot', \n",
    "                    'mild'],\n",
    "    'humidity': ['high', 'high', 'high', 'high', 'normal', 'normal', 'normal', 'high', 'normal', 'normal', 'normal', 'high',\n",
    "                 'normal', 'high'],\n",
    "    'wind': ['weak', 'strong', 'weak', 'weak', 'weak', 'strong', 'strong', 'weak', 'weak', 'weak', 'strong', 'strong', \n",
    "             'weak', 'strong'],\n",
    "    'class': ['no', 'no', 'yes', 'yes', 'yes', 'no', 'yes', 'no', 'yes', 'yes', 'yes', 'yes', 'yes', 'no']\n",
    "}\n",
    "\n",
    "dataset = pd.DataFrame(data)\n",
    "print(dataset)"
   ]
  },
  {
   "cell_type": "code",
   "execution_count": 2,
   "id": "b63f789e",
   "metadata": {},
   "outputs": [],
   "source": [
    "# Function to calculate entropy\n",
    "def entropy(target_col):\n",
    "    elements, counts = np.unique(target_col, return_counts=True)\n",
    "    entropy = np.sum([(-counts[i] / np.sum(counts)) * np.log2(counts[i] / np.sum(counts)) for i in range(len(elements))])\n",
    "    return entropy"
   ]
  },
  {
   "cell_type": "code",
   "execution_count": 3,
   "id": "20b6fee9",
   "metadata": {},
   "outputs": [],
   "source": [
    "# Function to calculate information gain\n",
    "def InfoGain(data, split_attribute_name, target_name=\"class\"):\n",
    "    total_entropy = entropy(data[target_name])\n",
    "    vals, counts = np.unique(data[split_attribute_name], return_counts=True)\n",
    "    Weighted_Entropy = np.sum([(counts[i] / np.sum(counts)) * \n",
    "                               entropy(data.where(data[split_attribute_name] == vals[i]).dropna()[target_name]) \n",
    "                               for i in range(len(vals))])\n",
    "    Information_Gain = total_entropy - Weighted_Entropy\n",
    "    return Information_Gain"
   ]
  },
  {
   "cell_type": "code",
   "execution_count": 4,
   "id": "8c123b32",
   "metadata": {},
   "outputs": [],
   "source": [
    "# ID3 algorithm to build the decision tree\n",
    "def ID3(data, originaldata, features, target_attribute_name=\"class\", parent_node_class=None):\n",
    "    if len(np.unique(data[target_attribute_name])) <= 1:\n",
    "        return np.unique(data[target_attribute_name])[0]\n",
    "    elif len(data) == 0:\n",
    "        return np.unique(originaldata[target_attribute_name])[np.argmax(np.unique(originaldata[target_attribute_name], \n",
    "                                                                                  return_counts=True)[1])]\n",
    "    elif len(features) == 0:\n",
    "        return parent_node_class\n",
    "    else:\n",
    "        parent_node_class = np.unique(data[target_attribute_name])[np.argmax(np.unique(data[target_attribute_name], \n",
    "                                                                                       return_counts=True)[1])]\n",
    "        item_values = [InfoGain(data, feature, target_attribute_name) for feature in features]\n",
    "        best_feature_index = np.argmax(item_values)\n",
    "        best_feature = features[best_feature_index]\n",
    "        tree = {best_feature: {}}\n",
    "        features = [i for i in features if i != best_feature]\n",
    "        for value in np.unique(data[best_feature]):\n",
    "            value = value\n",
    "            sub_data = data.where(data[best_feature] == value).dropna()\n",
    "            subtree = ID3(sub_data, dataset, features, target_attribute_name, parent_node_class)\n",
    "            tree[best_feature][value] = subtree\n",
    "        return tree"
   ]
  },
  {
   "cell_type": "code",
   "execution_count": 5,
   "id": "7c5d990c",
   "metadata": {},
   "outputs": [
    {
     "name": "stdout",
     "output_type": "stream",
     "text": [
      "Display Tree\n",
      " {'weather': {'cloudy': 'yes', 'rain': {'wind': {'strong': 'no', 'weak': 'yes'}}, 'sunny': {'humidity': {'high': 'no', 'normal': 'yes'}}}}\n"
     ]
    }
   ],
   "source": [
    "# Build the decision tree\n",
    "tree = ID3(dataset, dataset, dataset.columns[:-1])\n",
    "print('Display Tree\\n', tree)"
   ]
  },
  {
   "cell_type": "code",
   "execution_count": 1,
   "id": "2364de97",
   "metadata": {},
   "outputs": [
    {
     "name": "stdout",
     "output_type": "stream",
     "text": [
      "   weather temperature humidity    wind class\n",
      "0    sunny         hot     high    weak    no\n",
      "1    sunny         hot     high  strong    no\n",
      "2   cloudy         hot     high    weak   yes\n",
      "3     rain        mild     high    weak   yes\n",
      "4     rain        cool   normal    weak   yes\n",
      "5     rain        cool   normal  strong    no\n",
      "6   cloudy        cool   normal  strong   yes\n",
      "7    sunny        mild     high    weak    no\n",
      "8    sunny        cool   normal    weak   yes\n",
      "9     rain        mild   normal    weak   yes\n",
      "10   sunny        mild   normal  strong   yes\n",
      "11  cloudy        mild     high  strong   yes\n",
      "12  cloudy         hot   normal    weak   yes\n",
      "13    rain        mild     high  strong    no\n",
      "Display Tree\n",
      " {'weather': {'cloudy': 'yes', 'rain': {'wind': {'strong': 'no', 'weak': 'yes'}}, 'sunny': {'humidity': {'high': 'no', 'normal': 'yes'}}}}\n"
     ]
    }
   ],
   "source": [
    "import pandas as pd\n",
    "import numpy as np\n",
    "from sklearn.preprocessing import LabelEncoder\n",
    "\n",
    "# Create dataset manually\n",
    "data = {\n",
    "    'weather': ['sunny', 'sunny', 'cloudy', 'rain', 'rain', 'rain', 'cloudy', 'sunny', 'sunny', 'rain', 'sunny', 'cloudy', \n",
    "                'cloudy', 'rain'],\n",
    "    'temperature': ['hot', 'hot', 'hot', 'mild', 'cool', 'cool', 'cool', 'mild', 'cool', 'mild', 'mild', 'mild', 'hot', \n",
    "                    'mild'],\n",
    "    'humidity': ['high', 'high', 'high', 'high', 'normal', 'normal', 'normal', 'high', 'normal', 'normal', 'normal', 'high',\n",
    "                 'normal', 'high'],\n",
    "    'wind': ['weak', 'strong', 'weak', 'weak', 'weak', 'strong', 'strong', 'weak', 'weak', 'weak', 'strong', 'strong', \n",
    "             'weak', 'strong'],\n",
    "    'class': ['no', 'no', 'yes', 'yes', 'yes', 'no', 'yes', 'no', 'yes', 'yes', 'yes', 'yes', 'yes', 'no']\n",
    "}\n",
    "\n",
    "dataset = pd.DataFrame(data)\n",
    "print(dataset)\n",
    "\n",
    "# Function to calculate entropy\n",
    "def entropy(target_col):\n",
    "    elements, counts = np.unique(target_col, return_counts=True)\n",
    "    entropy = np.sum([(-counts[i] / np.sum(counts)) * np.log2(counts[i] / np.sum(counts)) for i in range(len(elements))])\n",
    "    return entropy\n",
    "\n",
    "# Function to calculate information gain\n",
    "def InfoGain(data, split_attribute_name, target_name=\"class\"):\n",
    "    total_entropy = entropy(data[target_name])\n",
    "    vals, counts = np.unique(data[split_attribute_name], return_counts=True)\n",
    "    Weighted_Entropy = np.sum([(counts[i] / np.sum(counts)) * \n",
    "                               entropy(data.where(data[split_attribute_name] == vals[i]).dropna()[target_name]) \n",
    "                               for i in range(len(vals))])\n",
    "    Information_Gain = total_entropy - Weighted_Entropy\n",
    "    return Information_Gain\n",
    "\n",
    "# ID3 algorithm to build the decision tree\n",
    "def ID3(data, originaldata, features, target_attribute_name=\"class\", parent_node_class=None):\n",
    "    if len(np.unique(data[target_attribute_name])) <= 1:\n",
    "        return np.unique(data[target_attribute_name])[0]\n",
    "    elif len(data) == 0:\n",
    "        return np.unique(originaldata[target_attribute_name])[np.argmax(np.unique(originaldata[target_attribute_name], \n",
    "                                                                                  return_counts=True)[1])]\n",
    "    elif len(features) == 0:\n",
    "        return parent_node_class\n",
    "    else:\n",
    "        parent_node_class = np.unique(data[target_attribute_name])[np.argmax(np.unique(data[target_attribute_name], \n",
    "                                                                                       return_counts=True)[1])]\n",
    "        item_values = [InfoGain(data, feature, target_attribute_name) for feature in features]\n",
    "        best_feature_index = np.argmax(item_values)\n",
    "        best_feature = features[best_feature_index]\n",
    "        tree = {best_feature: {}}\n",
    "        features = [i for i in features if i != best_feature]\n",
    "        for value in np.unique(data[best_feature]):\n",
    "            value = value\n",
    "            sub_data = data.where(data[best_feature] == value).dropna()\n",
    "            subtree = ID3(sub_data, dataset, features, target_attribute_name, parent_node_class)\n",
    "            tree[best_feature][value] = subtree\n",
    "        return tree\n",
    "\n",
    "# Build the decision tree\n",
    "tree = ID3(dataset, dataset, dataset.columns[:-1])\n",
    "print('Display Tree\\n', tree)"
   ]
  }
 ],
 "metadata": {
  "kernelspec": {
   "display_name": "Python 3 (ipykernel)",
   "language": "python",
   "name": "python3"
  },
  "language_info": {
   "codemirror_mode": {
    "name": "ipython",
    "version": 3
   },
   "file_extension": ".py",
   "mimetype": "text/x-python",
   "name": "python",
   "nbconvert_exporter": "python",
   "pygments_lexer": "ipython3",
   "version": "3.11.4"
  }
 },
 "nbformat": 4,
 "nbformat_minor": 5
}
