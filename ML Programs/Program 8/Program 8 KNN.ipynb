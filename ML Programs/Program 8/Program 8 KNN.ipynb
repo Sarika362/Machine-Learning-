{
 "cells": [
  {
   "cell_type": "markdown",
   "id": "d4e07ad9",
   "metadata": {},
   "source": [
    "Aim: Demonstrate and analyse the results of classification based on KNN Algorithm.\n",
    "\n",
    "Program: Write a program to implement K-Nearest Neighbour Algorithm to classify the iris data set. \n",
    "Print both correct and wrong predictions. Java/Python ML Library classes can be used for this problem."
   ]
  },
  {
   "cell_type": "code",
   "execution_count": 1,
   "id": "cd3711e9",
   "metadata": {},
   "outputs": [
    {
     "name": "stdout",
     "output_type": "stream",
     "text": [
      "Iris Data set loaded...\n",
      "Dataset is split into training and testing...\n",
      "size of training data and its label (135, 4) (135,)\n",
      "size of traing data its label (15, 4) (15,)\n",
      "Label 0 _ setosa\n",
      "Label 1 _ versicolor\n",
      "Label 2 _ virginica\n",
      "results of classification using k-nn with k=1\n",
      "sample: [6.4 3.2 5.3 2.3] Actual-label: 2 predicted-label: 2\n",
      "Classification Accuracy: 1.0\n",
      "sample: [6.1 3.  4.9 1.8] Actual-label: 2 predicted-label: 2\n",
      "Classification Accuracy: 1.0\n",
      "sample: [7.2 3.6 6.1 2.5] Actual-label: 2 predicted-label: 2\n",
      "Classification Accuracy: 1.0\n",
      "sample: [5.1 3.8 1.5 0.3] Actual-label: 0 predicted-label: 0\n",
      "Classification Accuracy: 1.0\n",
      "sample: [7.2 3.  5.8 1.6] Actual-label: 2 predicted-label: 2\n",
      "Classification Accuracy: 1.0\n",
      "sample: [5.1 3.7 1.5 0.4] Actual-label: 0 predicted-label: 0\n",
      "Classification Accuracy: 1.0\n",
      "sample: [6.5 3.  5.2 2. ] Actual-label: 2 predicted-label: 2\n",
      "Classification Accuracy: 1.0\n",
      "sample: [6.5 3.  5.8 2.2] Actual-label: 2 predicted-label: 2\n",
      "Classification Accuracy: 1.0\n",
      "sample: [5.8 4.  1.2 0.2] Actual-label: 0 predicted-label: 0\n",
      "Classification Accuracy: 1.0\n",
      "sample: [5.6 2.7 4.2 1.3] Actual-label: 1 predicted-label: 1\n",
      "Classification Accuracy: 1.0\n",
      "sample: [5.5 2.4 3.8 1.1] Actual-label: 1 predicted-label: 1\n",
      "Classification Accuracy: 1.0\n",
      "sample: [4.6 3.1 1.5 0.2] Actual-label: 0 predicted-label: 0\n",
      "Classification Accuracy: 1.0\n",
      "sample: [6.3 2.9 5.6 1.8] Actual-label: 2 predicted-label: 2\n",
      "Classification Accuracy: 1.0\n",
      "sample: [4.4 2.9 1.4 0.2] Actual-label: 0 predicted-label: 0\n",
      "Classification Accuracy: 1.0\n",
      "sample: [6.7 3.3 5.7 2.1] Actual-label: 2 predicted-label: 2\n",
      "Classification Accuracy: 1.0\n",
      "Confusion Matrix\n",
      "[[5 0 0]\n",
      " [0 2 0]\n",
      " [0 0 8]]\n",
      "Accuracy Metrics\n",
      "              precision    recall  f1-score   support\n",
      "\n",
      "           0       1.00      1.00      1.00         5\n",
      "           1       1.00      1.00      1.00         2\n",
      "           2       1.00      1.00      1.00         8\n",
      "\n",
      "    accuracy                           1.00        15\n",
      "   macro avg       1.00      1.00      1.00        15\n",
      "weighted avg       1.00      1.00      1.00        15\n",
      "\n"
     ]
    }
   ],
   "source": [
    "from sklearn.model_selection import train_test_split\n",
    "from sklearn.neighbors import KNeighborsClassifier\n",
    "from sklearn import datasets\n",
    "\n",
    "iris=datasets.load_iris()\n",
    "print(\"Iris Data set loaded...\")\n",
    "\n",
    "x_train,x_test,y_train,y_test=train_test_split(iris.data,iris.target,test_size=0.1)\n",
    "print(\"Dataset is split into training and testing...\")\n",
    "print(\"size of training data and its label\",x_train.shape,y_train.shape)\n",
    "print(\"size of test data its label\",x_test.shape,y_test.shape)\n",
    "\n",
    "for i in range(len(iris.target_names)):\n",
    "    print(\"Label\", i, \"_\",str(iris.target_names[i]))\n",
    "classifier = KNeighborsClassifier(n_neighbors=1)\n",
    "classifier.fit(x_train,y_train)\n",
    "\n",
    "y_pred=classifier.predict(x_test)\n",
    "print(\"results of classification using k-nn with k=1\")\n",
    "for r in range(0,len(x_test)):\n",
    "    print(\"sample:\",str(x_test[r]),\"Actual-label:\",str(y_test[r]),\"predicted-label:\",str(y_pred[r]))\n",
    "    print(\"Classification Accuracy:\",classifier.score(x_test,y_test));\n",
    "\n",
    "from sklearn.metrics import classification_report,confusion_matrix\n",
    "print('Confusion Matrix')\n",
    "print(confusion_matrix(y_test,y_pred))\n",
    "print('Accuracy Metrics')\n",
    "print(classification_report(y_test,y_pred))"
   ]
  },
  {
   "cell_type": "code",
   "execution_count": 9,
   "id": "4628663d",
   "metadata": {},
   "outputs": [],
   "source": [
    "from sklearn.model_selection import train_test_split\n",
    "from sklearn.neighbors import KNeighborsClassifier\n",
    "from sklearn import datasets\n",
    "import pandas as pd"
   ]
  },
  {
   "cell_type": "code",
   "execution_count": 11,
   "id": "004e96ca",
   "metadata": {},
   "outputs": [
    {
     "name": "stdout",
     "output_type": "stream",
     "text": [
      "Iris Data set loaded...\n"
     ]
    },
    {
     "data": {
      "text/html": [
       "<div>\n",
       "<style scoped>\n",
       "    .dataframe tbody tr th:only-of-type {\n",
       "        vertical-align: middle;\n",
       "    }\n",
       "\n",
       "    .dataframe tbody tr th {\n",
       "        vertical-align: top;\n",
       "    }\n",
       "\n",
       "    .dataframe thead th {\n",
       "        text-align: right;\n",
       "    }\n",
       "</style>\n",
       "<table border=\"1\" class=\"dataframe\">\n",
       "  <thead>\n",
       "    <tr style=\"text-align: right;\">\n",
       "      <th></th>\n",
       "      <th>sepal length (cm)</th>\n",
       "      <th>sepal width (cm)</th>\n",
       "      <th>petal length (cm)</th>\n",
       "      <th>petal width (cm)</th>\n",
       "    </tr>\n",
       "  </thead>\n",
       "  <tbody>\n",
       "    <tr>\n",
       "      <th>0</th>\n",
       "      <td>5.1</td>\n",
       "      <td>3.5</td>\n",
       "      <td>1.4</td>\n",
       "      <td>0.2</td>\n",
       "    </tr>\n",
       "    <tr>\n",
       "      <th>1</th>\n",
       "      <td>4.9</td>\n",
       "      <td>3.0</td>\n",
       "      <td>1.4</td>\n",
       "      <td>0.2</td>\n",
       "    </tr>\n",
       "    <tr>\n",
       "      <th>2</th>\n",
       "      <td>4.7</td>\n",
       "      <td>3.2</td>\n",
       "      <td>1.3</td>\n",
       "      <td>0.2</td>\n",
       "    </tr>\n",
       "    <tr>\n",
       "      <th>3</th>\n",
       "      <td>4.6</td>\n",
       "      <td>3.1</td>\n",
       "      <td>1.5</td>\n",
       "      <td>0.2</td>\n",
       "    </tr>\n",
       "    <tr>\n",
       "      <th>4</th>\n",
       "      <td>5.0</td>\n",
       "      <td>3.6</td>\n",
       "      <td>1.4</td>\n",
       "      <td>0.2</td>\n",
       "    </tr>\n",
       "  </tbody>\n",
       "</table>\n",
       "</div>"
      ],
      "text/plain": [
       "   sepal length (cm)  sepal width (cm)  petal length (cm)  petal width (cm)\n",
       "0                5.1               3.5                1.4               0.2\n",
       "1                4.9               3.0                1.4               0.2\n",
       "2                4.7               3.2                1.3               0.2\n",
       "3                4.6               3.1                1.5               0.2\n",
       "4                5.0               3.6                1.4               0.2"
      ]
     },
     "execution_count": 11,
     "metadata": {},
     "output_type": "execute_result"
    }
   ],
   "source": [
    "iris=datasets.load_iris()\n",
    "print(\"Iris Data set loaded...\")\n",
    "df = pd.DataFrame(data = iris.data, columns = iris.feature_names)\n",
    "df.head()"
   ]
  },
  {
   "cell_type": "code",
   "execution_count": 14,
   "id": "e3abf381",
   "metadata": {},
   "outputs": [
    {
     "name": "stdout",
     "output_type": "stream",
     "text": [
      "Dataset is split into training and testing...\n",
      "size of training data and its label (135, 4) (135,)\n",
      "size of testing data its label (15, 4) (15,)\n",
      "Label 0 _ setosa\n",
      "Label 1 _ versicolor\n",
      "Label 2 _ virginica\n"
     ]
    },
    {
     "data": {
      "text/html": [
       "<style>#sk-container-id-3 {color: black;}#sk-container-id-3 pre{padding: 0;}#sk-container-id-3 div.sk-toggleable {background-color: white;}#sk-container-id-3 label.sk-toggleable__label {cursor: pointer;display: block;width: 100%;margin-bottom: 0;padding: 0.3em;box-sizing: border-box;text-align: center;}#sk-container-id-3 label.sk-toggleable__label-arrow:before {content: \"▸\";float: left;margin-right: 0.25em;color: #696969;}#sk-container-id-3 label.sk-toggleable__label-arrow:hover:before {color: black;}#sk-container-id-3 div.sk-estimator:hover label.sk-toggleable__label-arrow:before {color: black;}#sk-container-id-3 div.sk-toggleable__content {max-height: 0;max-width: 0;overflow: hidden;text-align: left;background-color: #f0f8ff;}#sk-container-id-3 div.sk-toggleable__content pre {margin: 0.2em;color: black;border-radius: 0.25em;background-color: #f0f8ff;}#sk-container-id-3 input.sk-toggleable__control:checked~div.sk-toggleable__content {max-height: 200px;max-width: 100%;overflow: auto;}#sk-container-id-3 input.sk-toggleable__control:checked~label.sk-toggleable__label-arrow:before {content: \"▾\";}#sk-container-id-3 div.sk-estimator input.sk-toggleable__control:checked~label.sk-toggleable__label {background-color: #d4ebff;}#sk-container-id-3 div.sk-label input.sk-toggleable__control:checked~label.sk-toggleable__label {background-color: #d4ebff;}#sk-container-id-3 input.sk-hidden--visually {border: 0;clip: rect(1px 1px 1px 1px);clip: rect(1px, 1px, 1px, 1px);height: 1px;margin: -1px;overflow: hidden;padding: 0;position: absolute;width: 1px;}#sk-container-id-3 div.sk-estimator {font-family: monospace;background-color: #f0f8ff;border: 1px dotted black;border-radius: 0.25em;box-sizing: border-box;margin-bottom: 0.5em;}#sk-container-id-3 div.sk-estimator:hover {background-color: #d4ebff;}#sk-container-id-3 div.sk-parallel-item::after {content: \"\";width: 100%;border-bottom: 1px solid gray;flex-grow: 1;}#sk-container-id-3 div.sk-label:hover label.sk-toggleable__label {background-color: #d4ebff;}#sk-container-id-3 div.sk-serial::before {content: \"\";position: absolute;border-left: 1px solid gray;box-sizing: border-box;top: 0;bottom: 0;left: 50%;z-index: 0;}#sk-container-id-3 div.sk-serial {display: flex;flex-direction: column;align-items: center;background-color: white;padding-right: 0.2em;padding-left: 0.2em;position: relative;}#sk-container-id-3 div.sk-item {position: relative;z-index: 1;}#sk-container-id-3 div.sk-parallel {display: flex;align-items: stretch;justify-content: center;background-color: white;position: relative;}#sk-container-id-3 div.sk-item::before, #sk-container-id-3 div.sk-parallel-item::before {content: \"\";position: absolute;border-left: 1px solid gray;box-sizing: border-box;top: 0;bottom: 0;left: 50%;z-index: -1;}#sk-container-id-3 div.sk-parallel-item {display: flex;flex-direction: column;z-index: 1;position: relative;background-color: white;}#sk-container-id-3 div.sk-parallel-item:first-child::after {align-self: flex-end;width: 50%;}#sk-container-id-3 div.sk-parallel-item:last-child::after {align-self: flex-start;width: 50%;}#sk-container-id-3 div.sk-parallel-item:only-child::after {width: 0;}#sk-container-id-3 div.sk-dashed-wrapped {border: 1px dashed gray;margin: 0 0.4em 0.5em 0.4em;box-sizing: border-box;padding-bottom: 0.4em;background-color: white;}#sk-container-id-3 div.sk-label label {font-family: monospace;font-weight: bold;display: inline-block;line-height: 1.2em;}#sk-container-id-3 div.sk-label-container {text-align: center;}#sk-container-id-3 div.sk-container {/* jupyter's `normalize.less` sets `[hidden] { display: none; }` but bootstrap.min.css set `[hidden] { display: none !important; }` so we also need the `!important` here to be able to override the default hidden behavior on the sphinx rendered scikit-learn.org. See: https://github.com/scikit-learn/scikit-learn/issues/21755 */display: inline-block !important;position: relative;}#sk-container-id-3 div.sk-text-repr-fallback {display: none;}</style><div id=\"sk-container-id-3\" class=\"sk-top-container\"><div class=\"sk-text-repr-fallback\"><pre>KNeighborsClassifier(n_neighbors=1)</pre><b>In a Jupyter environment, please rerun this cell to show the HTML representation or trust the notebook. <br />On GitHub, the HTML representation is unable to render, please try loading this page with nbviewer.org.</b></div><div class=\"sk-container\" hidden><div class=\"sk-item\"><div class=\"sk-estimator sk-toggleable\"><input class=\"sk-toggleable__control sk-hidden--visually\" id=\"sk-estimator-id-3\" type=\"checkbox\" checked><label for=\"sk-estimator-id-3\" class=\"sk-toggleable__label sk-toggleable__label-arrow\">KNeighborsClassifier</label><div class=\"sk-toggleable__content\"><pre>KNeighborsClassifier(n_neighbors=1)</pre></div></div></div></div></div>"
      ],
      "text/plain": [
       "KNeighborsClassifier(n_neighbors=1)"
      ]
     },
     "execution_count": 14,
     "metadata": {},
     "output_type": "execute_result"
    }
   ],
   "source": [
    "x_train,x_test,y_train,y_test=train_test_split(iris.data,iris.target,test_size=0.1)\n",
    "print(\"Dataset is split into training and testing...\")\n",
    "print(\"size of training data and its label\",x_train.shape,y_train.shape)\n",
    "print(\"size of testing data its label\",x_test.shape,y_test.shape)\n",
    "\n",
    "for i in range(len(iris.target_names)):\n",
    "    print(\"Label\", i, \"_\",str(iris.target_names[i]))\n",
    "classifier = KNeighborsClassifier(n_neighbors=1)\n",
    "classifier.fit(x_train,y_train)"
   ]
  },
  {
   "cell_type": "code",
   "execution_count": 13,
   "id": "134a2e82",
   "metadata": {},
   "outputs": [
    {
     "name": "stdout",
     "output_type": "stream",
     "text": [
      "Results of classification using k-nn with k=1\n",
      "Sample: [6.1 2.8 4.  1.3] Actual-label: 1 Predicted-label: 1\n",
      "Classification Accuracy: 0.9333333333333333\n",
      "Sample: [4.9 3.1 1.5 0.2] Actual-label: 0 Predicted-label: 0\n",
      "Classification Accuracy: 0.9333333333333333\n",
      "Sample: [5.8 2.7 5.1 1.9] Actual-label: 2 Predicted-label: 2\n",
      "Classification Accuracy: 0.9333333333333333\n",
      "Sample: [5.9 3.  4.2 1.5] Actual-label: 1 Predicted-label: 1\n",
      "Classification Accuracy: 0.9333333333333333\n",
      "Sample: [5.6 2.9 3.6 1.3] Actual-label: 1 Predicted-label: 1\n",
      "Classification Accuracy: 0.9333333333333333\n",
      "Sample: [7.2 3.  5.8 1.6] Actual-label: 2 Predicted-label: 2\n",
      "Classification Accuracy: 0.9333333333333333\n",
      "Sample: [6.8 3.  5.5 2.1] Actual-label: 2 Predicted-label: 2\n",
      "Classification Accuracy: 0.9333333333333333\n",
      "Sample: [5.7 2.6 3.5 1. ] Actual-label: 1 Predicted-label: 1\n",
      "Classification Accuracy: 0.9333333333333333\n",
      "Sample: [6.3 3.4 5.6 2.4] Actual-label: 2 Predicted-label: 2\n",
      "Classification Accuracy: 0.9333333333333333\n",
      "Sample: [5.2 4.1 1.5 0.1] Actual-label: 0 Predicted-label: 0\n",
      "Classification Accuracy: 0.9333333333333333\n",
      "Sample: [5.4 3.9 1.3 0.4] Actual-label: 0 Predicted-label: 0\n",
      "Classification Accuracy: 0.9333333333333333\n",
      "Sample: [6.8 3.2 5.9 2.3] Actual-label: 2 Predicted-label: 2\n",
      "Classification Accuracy: 0.9333333333333333\n",
      "Sample: [5.7 2.9 4.2 1.3] Actual-label: 1 Predicted-label: 1\n",
      "Classification Accuracy: 0.9333333333333333\n",
      "Sample: [6.7 3.1 4.7 1.5] Actual-label: 1 Predicted-label: 1\n",
      "Classification Accuracy: 0.9333333333333333\n",
      "Sample: [6.  2.7 5.1 1.6] Actual-label: 1 Predicted-label: 2\n",
      "Classification Accuracy: 0.9333333333333333\n",
      "\n",
      "Confusion Matrix\n",
      "[[3 0 0]\n",
      " [0 6 1]\n",
      " [0 0 5]]\n",
      "Accuracy Metrics\n",
      "              precision    recall  f1-score   support\n",
      "\n",
      "           0       1.00      1.00      1.00         3\n",
      "           1       1.00      0.86      0.92         7\n",
      "           2       0.83      1.00      0.91         5\n",
      "\n",
      "    accuracy                           0.93        15\n",
      "   macro avg       0.94      0.95      0.94        15\n",
      "weighted avg       0.94      0.93      0.93        15\n",
      "\n"
     ]
    }
   ],
   "source": [
    "y_pred=classifier.predict(x_test)\n",
    "print(\"Results of classification using k-nn with k=1\")\n",
    "for r in range(0,len(x_test)):\n",
    "    print(\"Sample:\",str(x_test[r]),\"Actual-label:\",str(y_test[r]),\"Predicted-label:\",str(y_pred[r]))\n",
    "    print(\"Classification Accuracy:\",classifier.score(x_test,y_test))\n",
    "\n",
    "from sklearn.metrics import classification_report,confusion_matrix\n",
    "print('\\nConfusion Matrix')\n",
    "print(confusion_matrix(y_test,y_pred))\n",
    "print('Accuracy Metrics')\n",
    "print(classification_report(y_test,y_pred))"
   ]
  }
 ],
 "metadata": {
  "kernelspec": {
   "display_name": "Python 3 (ipykernel)",
   "language": "python",
   "name": "python3"
  },
  "language_info": {
   "codemirror_mode": {
    "name": "ipython",
    "version": 3
   },
   "file_extension": ".py",
   "mimetype": "text/x-python",
   "name": "python",
   "nbconvert_exporter": "python",
   "pygments_lexer": "ipython3",
   "version": "3.11.4"
  }
 },
 "nbformat": 4,
 "nbformat_minor": 5
}
