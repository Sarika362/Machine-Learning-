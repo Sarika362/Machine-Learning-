{
 "cells": [
  {
   "cell_type": "code",
   "execution_count": 1,
   "id": "831b39ca",
   "metadata": {},
   "outputs": [],
   "source": [
    "from math import ceil\n",
    "import numpy as np\n",
    "from scipy import linalg\n",
    "\n",
    "def lowess(x, y, f, iterations):\n",
    "    n = len(x)\n",
    "    r = int(ceil(f * n))\n",
    "    h = [np.sort(np.abs(x - x[i]))[r] for i in range(n)]\n",
    "    w = np.clip(np.abs((x[:, None] - x[None, :]) / h), 0.0, 1.0)\n",
    "    w = (1 - w ** 3) ** 3\n",
    "    yest = np.zeros(n)\n",
    "    delta = np.ones(n)\n",
    "    for iteration in range(iterations):\n",
    "        for i in range(n):\n",
    "            weights = delta * w[:, i]\n",
    "            b = np.array([np.sum(weights * y), np.sum(weights * y * x)])\n",
    "            A = np.array([[np.sum(weights), np.sum(weights * x)],[np.sum(weights * x), np.sum(weights * x * x)]])\n",
    "            beta = linalg.solve(A, b)\n",
    "            yest[i] = beta[0] + beta[1] * x[i]\n",
    "\n",
    "        residuals = y - yest\n",
    "        s = np.median(np.abs(residuals))\n",
    "        delta = np.clip(residuals / (6.0 * s), -1, 1)\n",
    "        delta = (1 - delta ** 2) ** 2\n",
    "\n",
    "    return yest"
   ]
  },
  {
   "cell_type": "code",
   "execution_count": 2,
   "id": "8fe94591",
   "metadata": {},
   "outputs": [],
   "source": [
    "import math\n",
    "n = 100\n",
    "x = np.linspace(0, 2 * math.pi, n)\n",
    "y = np.sin(x) + 0.3 * np.random.randn(n)\n",
    "f =0.25\n",
    "iterations=3\n",
    "yest = lowess(x, y, f, iterations)"
   ]
  },
  {
   "cell_type": "code",
   "execution_count": 3,
   "id": "25b323b4",
   "metadata": {},
   "outputs": [
    {
     "data": {
      "text/plain": [
       "[<matplotlib.lines.Line2D at 0x166f2a20a90>]"
      ]
     },
     "execution_count": 3,
     "metadata": {},
     "output_type": "execute_result"
    },
    {
     "data": {
      "image/png": "[encoded data removed]",
      "text/plain": [
       "<Figure size 640x480 with 1 Axes>"
      ]
     },
     "metadata": {},
     "output_type": "display_data"
    }
   ],
   "source": [
    "import matplotlib.pyplot as plt\n",
    "plt.plot(x,y,\"r.\")\n",
    "plt.plot(x,yest,\"b-\")"
   ]
  },
  {
   "cell_type": "code",
   "execution_count": 17,
   "id": "4c5d6e4d",
   "metadata": {},
   "outputs": [
    {
     "data": {
      "text/html": [
       "<div>\n",
       "<style scoped>\n",
       "    .dataframe tbody tr th:only-of-type {\n",
       "        vertical-align: middle;\n",
       "    }\n",
       "\n",
       "    .dataframe tbody tr th {\n",
       "        vertical-align: top;\n",
       "    }\n",
       "\n",
       "    .dataframe thead th {\n",
       "        text-align: right;\n",
       "    }\n",
       "</style>\n",
       "<table border=\"1\" class=\"dataframe\">\n",
       "  <thead>\n",
       "    <tr style=\"text-align: right;\">\n",
       "      <th></th>\n",
       "      <th>total_bill</th>\n",
       "      <th>tip</th>\n",
       "      <th>sex</th>\n",
       "      <th>smoker</th>\n",
       "      <th>day</th>\n",
       "      <th>time</th>\n",
       "      <th>size</th>\n",
       "    </tr>\n",
       "  </thead>\n",
       "  <tbody>\n",
       "    <tr>\n",
       "      <th>0</th>\n",
       "      <td>16.99</td>\n",
       "      <td>1.01</td>\n",
       "      <td>Female</td>\n",
       "      <td>No</td>\n",
       "      <td>Sun</td>\n",
       "      <td>Dinner</td>\n",
       "      <td>2</td>\n",
       "    </tr>\n",
       "    <tr>\n",
       "      <th>1</th>\n",
       "      <td>10.34</td>\n",
       "      <td>1.66</td>\n",
       "      <td>Male</td>\n",
       "      <td>No</td>\n",
       "      <td>Sun</td>\n",
       "      <td>Dinner</td>\n",
       "      <td>3</td>\n",
       "    </tr>\n",
       "    <tr>\n",
       "      <th>2</th>\n",
       "      <td>21.01</td>\n",
       "      <td>3.50</td>\n",
       "      <td>Male</td>\n",
       "      <td>No</td>\n",
       "      <td>Sun</td>\n",
       "      <td>Dinner</td>\n",
       "      <td>3</td>\n",
       "    </tr>\n",
       "    <tr>\n",
       "      <th>3</th>\n",
       "      <td>23.68</td>\n",
       "      <td>3.31</td>\n",
       "      <td>Male</td>\n",
       "      <td>No</td>\n",
       "      <td>Sun</td>\n",
       "      <td>Dinner</td>\n",
       "      <td>2</td>\n",
       "    </tr>\n",
       "    <tr>\n",
       "      <th>4</th>\n",
       "      <td>24.59</td>\n",
       "      <td>3.61</td>\n",
       "      <td>Female</td>\n",
       "      <td>No</td>\n",
       "      <td>Sun</td>\n",
       "      <td>Dinner</td>\n",
       "      <td>4</td>\n",
       "    </tr>\n",
       "  </tbody>\n",
       "</table>\n",
       "</div>"
      ],
      "text/plain": [
       "   total_bill   tip     sex smoker  day    time  size\n",
       "0       16.99  1.01  Female     No  Sun  Dinner     2\n",
       "1       10.34  1.66    Male     No  Sun  Dinner     3\n",
       "2       21.01  3.50    Male     No  Sun  Dinner     3\n",
       "3       23.68  3.31    Male     No  Sun  Dinner     2\n",
       "4       24.59  3.61  Female     No  Sun  Dinner     4"
      ]
     },
     "execution_count": 17,
     "metadata": {},
     "output_type": "execute_result"
    }
   ],
   "source": [
    "import matplotlib.pyplot as plt\n",
    "import pandas as pd\n",
    "import numpy as np\n",
    "def kernel(point, xmat, k):\n",
    "    m,n= np.shape(xmat)\n",
    "    weights = np.mat(np.eye((m)))\n",
    "    for j in range(m):\n",
    "        diff = point - x[j]\n",
    "        weights[j,j] = np.exp(diff*diff.T/(-2.0*k**2))\n",
    "    return weights\n",
    "def localweight(point,xmat, ymat,k):\n",
    "    wei = kernel(point,xmat,k)\n",
    "    W = (X.T*(wei*X)).I*(X.T*(wei*ymat.T))\n",
    "    return W\n",
    "\n",
    "def localweightRegression(xmat,ymat,k):\n",
    "    m,n= np.shape(xmat)\n",
    "    ypred = np.zeros(m) \n",
    "    for i in range(m):\n",
    "        ypred[i] = xmat[i]*localweight(xmat[i],xmat,ymat,k)\n",
    "    return ypred\n",
    "\n",
    "data = pd.read_csv('dataset/data.csv')\n",
    "data.head()"
   ]
  },
  {
   "cell_type": "code",
   "execution_count": 18,
   "id": "80038834",
   "metadata": {},
   "outputs": [
    {
     "ename": "IndexError",
     "evalue": "index 100 is out of bounds for axis 0 with size 100",
     "output_type": "error",
     "traceback": [
      "\u001b[1;31m---------------------------------------------------------------------------\u001b[0m",
      "\u001b[1;31mIndexError\u001b[0m                                Traceback (most recent call last)",
      "Cell \u001b[1;32mIn[18], line 8\u001b[0m\n\u001b[0;32m      6\u001b[0m one \u001b[38;5;241m=\u001b[39m np\u001b[38;5;241m.\u001b[39mmat(np\u001b[38;5;241m.\u001b[39mones(m))\n\u001b[0;32m      7\u001b[0m X\u001b[38;5;241m=\u001b[39m np\u001b[38;5;241m.\u001b[39mhstack((one\u001b[38;5;241m.\u001b[39mT,mbill\u001b[38;5;241m.\u001b[39mT))\n\u001b[1;32m----> 8\u001b[0m ypred \u001b[38;5;241m=\u001b[39mlocalweightRegression(X,mtip, \u001b[38;5;241m2\u001b[39m)\n\u001b[0;32m      9\u001b[0m SortIndex \u001b[38;5;241m=\u001b[39m X[:,\u001b[38;5;241m1\u001b[39m]\u001b[38;5;241m.\u001b[39margsort(\u001b[38;5;241m0\u001b[39m)\n\u001b[0;32m     10\u001b[0m xsort \u001b[38;5;241m=\u001b[39m X[SortIndex][:,\u001b[38;5;241m0\u001b[39m]\n",
      "Cell \u001b[1;32mIn[17], line 20\u001b[0m, in \u001b[0;36mlocalweightRegression\u001b[1;34m(xmat, ymat, k)\u001b[0m\n\u001b[0;32m     18\u001b[0m ypred \u001b[38;5;241m=\u001b[39m np\u001b[38;5;241m.\u001b[39mzeros(m) \n\u001b[0;32m     19\u001b[0m \u001b[38;5;28;01mfor\u001b[39;00m i \u001b[38;5;129;01min\u001b[39;00m \u001b[38;5;28mrange\u001b[39m(m):\n\u001b[1;32m---> 20\u001b[0m     ypred[i] \u001b[38;5;241m=\u001b[39m xmat[i]\u001b[38;5;241m*\u001b[39mlocalweight(xmat[i],xmat,ymat,k)\n\u001b[0;32m     21\u001b[0m \u001b[38;5;28;01mreturn\u001b[39;00m ypred\n",
      "Cell \u001b[1;32mIn[17], line 12\u001b[0m, in \u001b[0;36mlocalweight\u001b[1;34m(point, xmat, ymat, k)\u001b[0m\n\u001b[0;32m     11\u001b[0m \u001b[38;5;28;01mdef\u001b[39;00m \u001b[38;5;21mlocalweight\u001b[39m(point,xmat, ymat,k):\n\u001b[1;32m---> 12\u001b[0m     wei \u001b[38;5;241m=\u001b[39m kernel(point,xmat,k)\n\u001b[0;32m     13\u001b[0m     W \u001b[38;5;241m=\u001b[39m (X\u001b[38;5;241m.\u001b[39mT\u001b[38;5;241m*\u001b[39m(wei\u001b[38;5;241m*\u001b[39mX))\u001b[38;5;241m.\u001b[39mI\u001b[38;5;241m*\u001b[39m(X\u001b[38;5;241m.\u001b[39mT\u001b[38;5;241m*\u001b[39m(wei\u001b[38;5;241m*\u001b[39mymat\u001b[38;5;241m.\u001b[39mT))\n\u001b[0;32m     14\u001b[0m     \u001b[38;5;28;01mreturn\u001b[39;00m W\n",
      "Cell \u001b[1;32mIn[17], line 8\u001b[0m, in \u001b[0;36mkernel\u001b[1;34m(point, xmat, k)\u001b[0m\n\u001b[0;32m      6\u001b[0m weights \u001b[38;5;241m=\u001b[39m np\u001b[38;5;241m.\u001b[39mmat(np\u001b[38;5;241m.\u001b[39meye((m)))\n\u001b[0;32m      7\u001b[0m \u001b[38;5;28;01mfor\u001b[39;00m j \u001b[38;5;129;01min\u001b[39;00m \u001b[38;5;28mrange\u001b[39m(m):\n\u001b[1;32m----> 8\u001b[0m     diff \u001b[38;5;241m=\u001b[39m point \u001b[38;5;241m-\u001b[39m x[j]\n\u001b[0;32m      9\u001b[0m     weights[j,j] \u001b[38;5;241m=\u001b[39m np\u001b[38;5;241m.\u001b[39mexp(diff\u001b[38;5;241m*\u001b[39mdiff\u001b[38;5;241m.\u001b[39mT\u001b[38;5;241m/\u001b[39m(\u001b[38;5;241m-\u001b[39m\u001b[38;5;241m2.0\u001b[39m\u001b[38;5;241m*\u001b[39mk\u001b[38;5;241m*\u001b[39m\u001b[38;5;241m*\u001b[39m\u001b[38;5;241m2\u001b[39m))\n\u001b[0;32m     10\u001b[0m \u001b[38;5;28;01mreturn\u001b[39;00m weights\n",
      "\u001b[1;31mIndexError\u001b[0m: index 100 is out of bounds for axis 0 with size 100"
     ]
    }
   ],
   "source": [
    "bill = np.array(data.total_bill)\n",
    "tip = np.array(data.tip)\n",
    "mbill = np.mat(bill)\n",
    "mtip = np.mat(tip)\n",
    "m= np.shape(mbill) [1]\n",
    "one = np.mat(np.ones(m))\n",
    "X= np.hstack((one.T,mbill.T))\n",
    "ypred =localweightRegression(X,mtip, 2)\n",
    "SortIndex = X[:,1].argsort(0)\n",
    "xsort = X[SortIndex][:,0]\n",
    "fig = plt.figure()\n",
    "ax = fig.add_subplot(1,1,1)\n",
    "ax.scatter(bill, tip, color='blue')\n",
    "ax.plot(xsort [:,1], ypred [SortIndex], color = 'red', linewidth=1)\n",
    "plt.xlabel('Total bill')\n",
    "plt.ylabel('Tip')\n",
    "plt.show()"
   ]
  },
  {
   "cell_type": "code",
   "execution_count": null,
   "id": "2199210c",
   "metadata": {},
   "outputs": [],
   "source": []
  }
 ],
 "metadata": {
  "kernelspec": {
   "display_name": "Python 3 (ipykernel)",
   "language": "python",
   "name": "python3"
  },
  "language_info": {
   "codemirror_mode": {
    "name": "ipython",
    "version": 3
   },
   "file_extension": ".py",
   "mimetype": "text/x-python",
   "name": "python",
   "nbconvert_exporter": "python",
   "pygments_lexer": "ipython3",
   "version": "3.11.4"
  }
 },
 "nbformat": 4,
 "nbformat_minor": 5
}
