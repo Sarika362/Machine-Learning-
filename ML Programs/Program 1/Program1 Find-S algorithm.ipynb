{
 "cells": [
  {
   "cell_type": "code",
   "execution_count": 1,
   "id": "6349ca59",
   "metadata": {},
   "outputs": [
    {
     "name": "stdout",
     "output_type": "stream",
     "text": [
      "Maximally specific hypothesis is:\n",
      "['sunny', 'warm', '?', 'strong', '?', '?']\n"
     ]
    }
   ],
   "source": [
    "import csv\n",
    "\n",
    "# Initialize the hypothesis to the most specific hypothesis \n",
    "h = ['0', '0', '0', '0', '0', '0']\n",
    "\n",
    "# Load the dataset from CSV\n",
    "with open('dataset\\w-ds.csv', 'r') as f:\n",
    "    reader = csv.reader(f)\n",
    "    next(reader) # Skip header\n",
    "    your_list = list(reader)\n",
    "    \n",
    "# Apply the Find-S algorithm\n",
    "for i in your_list:\n",
    "    if len(i) > 0 and i[-1] == \"yes\":\n",
    "        for j in range(len(i) - 1): # Iterate over features only\n",
    "            if i[j] != h[j] and h[j] == '0':\n",
    "                h[j] = i[j] \n",
    "            elif i[j] != h[j] and h[j] != '0': \n",
    "                h[j] = '?'\n",
    "                         \n",
    "# Print the maximally specific hypothesis \n",
    "print(\"Maximally specific hypothesis is:\")\n",
    "print(h)"
   ]
  },
  {
   "cell_type": "code",
   "execution_count": 2,
   "id": "412c8dc9",
   "metadata": {},
   "outputs": [
    {
     "name": "stdout",
     "output_type": "stream",
     "text": [
      "[['sunny', 'warm', 'normal', 'strong', 'warm', 'same', 'yes'], ['sunny', 'warm', 'high', 'strong', 'warm', 'same', 'yes'], ['rainy', 'cold', 'high', 'strong', 'warm', 'change', 'no'], ['sunny', 'warm', 'high', 'strong', 'cold', 'change', 'yes']]\n"
     ]
    }
   ],
   "source": [
    "print(your_list)"
   ]
  }
 ],
 "metadata": {
  "kernelspec": {
   "display_name": "Python 3 (ipykernel)",
   "language": "python",
   "name": "python3"
  },
  "language_info": {
   "codemirror_mode": {
    "name": "ipython",
    "version": 3
   },
   "file_extension": ".py",
   "mimetype": "text/x-python",
   "name": "python",
   "nbconvert_exporter": "python",
   "pygments_lexer": "ipython3",
   "version": "3.11.4"
  }
 },
 "nbformat": 4,
 "nbformat_minor": 5
}
